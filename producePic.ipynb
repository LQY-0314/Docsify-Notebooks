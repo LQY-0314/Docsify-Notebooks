{
 "cells": [
  {
   "cell_type": "code",
   "execution_count": null,
   "metadata": {},
   "outputs": [],
   "source": [
    "import numpy as np\n",
    "import matplotlib.pyplot as plt\n",
    "from sklearn.preprocessing import PolynomialFeatures\n",
    "from sklearn.linear_model import LinearRegression\n",
    "from sklearn.pipeline import make_pipeline\n",
    "\n",
    "# 生成数据点\n",
    "np.random.seed(0)\n",
    "X = np.sort(np.random.rand(100, 1) * 10, axis=0)\n",
    "y = np.sin(X).ravel() + np.random.normal(0, 0.1, X.shape[0])\n",
    "\n",
    "# 定义多项式的次数\n",
    "degrees = [1, 4, 20]  # 一次多项式表示欠拟合，三次多项式表示拟合较好，二十次多项式表示过拟合\n",
    "\n",
    "# 创建图形\n",
    "plt.figure(figsize=(18, 6),dpi=300)\n",
    "\n",
    "for i, degree in enumerate(degrees):\n",
    "    plt.subplot(1, 3, i + 1)\n",
    "    plt.scatter(X, y, color='orange', s=20, label=\"Data points\")\n",
    "    \n",
    "    # 创建多项式回归模型\n",
    "    model = make_pipeline(PolynomialFeatures(degree), LinearRegression())\n",
    "    model.fit(X, y)\n",
    "    \n",
    "    # 生成测试数据并预测\n",
    "    X_test = np.linspace(0, 10, 100).reshape(-1, 1)\n",
    "    y_test = model.predict(X_test)\n",
    "    \n",
    "    # 绘制拟合曲线\n",
    "    plt.plot(X_test, y_test, color='r', label=f\"Model degree {degree}\")\n",
    "    plt.xlabel(\"X\")\n",
    "    plt.ylabel(\"y\")\n",
    "    plt.title(f\"Degree {degree}\")\n",
    "    plt.legend(loc='upper right')\n",
    "\n",
    "# 设置总标题并调整布局\n",
    "plt.suptitle(\"Underfitting, Proper Fitting, and Overfitting in Machine Learning\", fontsize=16)\n",
    "plt.tight_layout()\n",
    "plt.savefig('fittinginML.jpg')\n",
    "plt.show()\n"
   ]
  }
 ],
 "metadata": {
  "kernelspec": {
   "display_name": "Pytorch",
   "language": "python",
   "name": "python3"
  },
  "language_info": {
   "codemirror_mode": {
    "name": "ipython",
    "version": 3
   },
   "file_extension": ".py",
   "mimetype": "text/x-python",
   "name": "python",
   "nbconvert_exporter": "python",
   "pygments_lexer": "ipython3",
   "version": "3.8.19"
  }
 },
 "nbformat": 4,
 "nbformat_minor": 2
}
